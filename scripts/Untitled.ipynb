{
 "cells": [
  {
   "cell_type": "code",
   "execution_count": null,
   "id": "d22b7e62-0ea6-4c89-90d6-a4fea3224b31",
   "metadata": {},
   "outputs": [],
   "source": [
    "import os\n",
    "import numpy as np\n",
    "from tensorflow.keras.preprocessing import image\n",
    "from tensorflow.keras.applications.resnet50 import ResNet50, preprocess_input\n",
    "from sklearn.cluster import KMeans\n",
    "from sklearn.manifold import TSNE\n",
    "import matplotlib.pyplot as plt\n",
    "\n",
    "# 1. Load images\n",
    "img_dir = \"./qscans\"\n",
    "img_size = (224, 224)\n",
    "images = []\n",
    "filenames = []\n",
    "\n",
    "for fname in os.listdir(img_dir):\n",
    "    if fname.endswith(\".png\"):\n",
    "        img_path = os.path.join(img_dir, fname)\n",
    "        img = image.load_img(img_path, target_size=img_size)\n",
    "        img_array = image.img_to_array(img)\n",
    "        images.append(img_array)\n",
    "        filenames.append(fname)\n",
    "\n",
    "images = np.array(images)\n",
    "images = preprocess_input(images)\n",
    "\n",
    "# 2. Feature extraction with pretrained ResNet50\n",
    "model = ResNet50(weights='imagenet', include_top=False, pooling='avg')  # avg pooling -> 1D vector\n",
    "features = model.predict(images)\n",
    "\n",
    "# 3. Cluster features\n",
    "n_clusters = 5  # adjust\n",
    "kmeans = KMeans(n_clusters=n_clusters, random_state=42)\n",
    "labels = kmeans.fit_predict(features)\n",
    "\n",
    "# 4. Optional: visualize with TSNE\n",
    "tsne = TSNE(n_components=2, random_state=42)\n",
    "features_2d = tsne.fit_transform(features)\n",
    "\n",
    "plt.scatter(features_2d[:,0], features_2d[:,1], c=labels)\n",
    "plt.savefig(\"./classify/qscan/qscan_classify.png\")\n",
    "\n",
    "plt.show()\n"
   ]
  }
 ],
 "metadata": {
  "kernelspec": {
   "display_name": " igwn-py",
   "language": "python",
   "name": "igwn-py"
  },
  "language_info": {
   "codemirror_mode": {
    "name": "ipython",
    "version": 3
   },
   "file_extension": ".py",
   "mimetype": "text/x-python",
   "name": "python",
   "nbconvert_exporter": "python",
   "pygments_lexer": "ipython3",
   "version": "3.10.18"
  }
 },
 "nbformat": 4,
 "nbformat_minor": 5
}
