{
 "cells": [
  {
   "cell_type": "code",
   "execution_count": null,
   "id": "3b97a7e1-d13c-4c4f-bc3d-83c7defc1dc9",
   "metadata": {},
   "outputs": [],
   "source": [
    "from gwpy.timeseries import TimeSeries\n",
    "import matplotlib.pyplot as plt\n",
    "\n",
    "# GPS start and end times\n",
    "t0 = 1440100200.0\n",
    "t1 = 1439947485\n",
    "\n",
    "# download H1 strain data (sampled at 4096 Hz)\n",
    "ts = TimeSeries.fetch_open_data(\"H1\", t0, t1, sample_rate=4096)\n",
    "\n",
    "# plot the time series\n",
    "plot = ts.plot()\n",
    "plt.title(f\"H1 Strain Time Series\\n{t0} – {t1} (GPS)\")\n",
    "plt.xlabel(\"Time [s, GPS]\")\n",
    "plt.ylabel(\"Strain\")\n",
    "plt.show()\n"
   ]
  },
  {
   "cell_type": "code",
   "execution_count": null,
   "id": "cb64a232-ab66-44a6-b20b-f1a60278e057",
   "metadata": {},
   "outputs": [],
   "source": [
    "from gwpy.timeseries import TimeSeries\n",
    "import matplotlib.pyplot as plt\n",
    "\n",
    "# glitch interval (GPS)\n",
    "g0 = 1440100200.0\n",
    "g1 = 1440100201.0\n",
    "\n",
    "# choose padding (seconds)\n",
    "pad = 5.0  # bump to 10–20 if you want more context\n",
    "\n",
    "# compute window\n",
    "t0 = g0 - pad\n",
    "t1 = g1 + pad\n",
    "\n",
    "# fetch H1 strain (public GWOSC)\n",
    "ts = TimeSeries.fetch_open_data(\"H1\", t0, t1, sample_rate=4096)\n",
    "\n",
    "# plot the time series\n",
    "fig = ts.plot()\n",
    "ax = fig.gca()\n",
    "\n",
    "# highlight the glitch window\n",
    "ax.axvspan(g0, g1, alpha=0.3)\n",
    "\n",
    "ax.set_title(f\"H1 Strain Time Series (GPS {t0:.0f}–{t1:.0f})\")\n",
    "ax.set_xlabel(\"Time (s, GPS)\")\n",
    "ax.set_ylabel(\"Strain\")\n",
    "\n",
    "plt.show()\n"
   ]
  },
  {
   "cell_type": "code",
   "execution_count": null,
   "id": "1c35a0df-02b6-4633-981e-7bab27e7b83f",
   "metadata": {},
   "outputs": [],
   "source": [
    "from gwpy.timeseries import TimeSeries\n",
    "import matplotlib.pyplot as plt\n",
    "\n",
    "# GPS times around the glitch\n",
    "g0, g1 = 1245062053.5, 1245062054.25\n",
    "pad = 5\n",
    "t0, t1 = g0 - pad, g1 + pad\n",
    "\n",
    "# pick your channel (strain or aux channel)\n",
    "channel = \"H1:GWOSC-4KHZ_R1_STRAIN\"      # for strain\n",
    "# channel = \"H1-LSC_PRCL_OUT_DQ_OMICRON\"  # for aux channel\n",
    "\n",
    "# read from NDS2 (private LIGO data servers)\n",
    "ts = TimeSeries.get(channel, t0, t1)\n",
    "\n",
    "# plot\n",
    "plot = ts.plot()\n",
    "ax = plot.gca()\n",
    "ax.axvspan(g0, g1, alpha=0.3, color=\"red\")\n",
    "\n",
    "ax.set_title(f\"{channel} from {t0}–{t1} (GPS)\")\n",
    "ax.set_xlabel(\"Time [s, GPS]\")\n",
    "ax.set_ylabel(\"Amplitude / Strain\")\n",
    "plt.show()\n"
   ]
  },
  {
   "cell_type": "code",
   "execution_count": 4,
   "id": "faee7652-0f38-4fe3-8bea-0057c471f9b0",
   "metadata": {},
   "outputs": [
    {
     "name": "stdout",
     "output_type": "stream",
     "text": [
      "Attempting to access data from frames...\n"
     ]
    },
    {
     "name": "stderr",
     "output_type": "stream",
     "text": [
      "unknown datafind configuration, cannot discover data\n"
     ]
    },
    {
     "name": "stdout",
     "output_type": "stream",
     "text": [
      "Failed to access data from frames, trying NDS...\n",
      "Opening new connection to nds.ligo.caltech.edu... connected\n",
      "    [nds.ligo.caltech.edu] set ALLOW_DATA_ON_TAPE='False'\n",
      "Checking channels list against NDS2 database... done\n",
      "Downloading data: |██████████| 6.0/6.0 (100%) ETA 00:00 \n",
      "Attempting to access data from frames...\n"
     ]
    },
    {
     "name": "stderr",
     "output_type": "stream",
     "text": [
      "unknown datafind configuration, cannot discover data\n"
     ]
    },
    {
     "name": "stdout",
     "output_type": "stream",
     "text": [
      "Failed to access data from frames, trying NDS...\n",
      "Opening new connection to nds.ligo.caltech.edu... connected\n",
      "    [nds.ligo.caltech.edu] set ALLOW_DATA_ON_TAPE='False'\n",
      "Checking channels list against NDS2 database... Opening new connection to nds.ligo.caltech.edu... "
     ]
    },
    {
     "name": "stderr",
     "output_type": "stream",
     "text": [
      "/cvmfs/software.igwn.org/conda/envs/igwn/lib/python3.10/site-packages/gwpy/timeseries/core.py:1141: NDSWarning: failed to fetch data for H1-LSC_PRCL_OUT_DQ_OMICRON in interval [1245062051.5, 1245062056.25): unique NDS2 channel match not found for 'H1-LSC_PRCL_OUT_DQ_OMICRON'\n",
      "  warnings.warn(\n"
     ]
    },
    {
     "name": "stdout",
     "output_type": "stream",
     "text": [
      "connected\n",
      "    [nds.ligo.caltech.edu] set ALLOW_DATA_ON_TAPE='True'\n",
      "Checking channels list against NDS2 database... "
     ]
    },
    {
     "name": "stderr",
     "output_type": "stream",
     "text": [
      "/cvmfs/software.igwn.org/conda/envs/igwn/lib/python3.10/site-packages/gwpy/timeseries/core.py:1141: NDSWarning: failed to fetch data for H1-LSC_PRCL_OUT_DQ_OMICRON in interval [1245062051.5, 1245062056.25): unique NDS2 channel match not found for 'H1-LSC_PRCL_OUT_DQ_OMICRON'\n",
      "  warnings.warn(\n"
     ]
    },
    {
     "ename": "RuntimeError",
     "evalue": "Cannot find all relevant data on any known server.",
     "output_type": "error",
     "traceback": [
      "\u001b[0;31m---------------------------------------------------------------------------\u001b[0m",
      "\u001b[0;31mRuntimeError\u001b[0m                              Traceback (most recent call last)",
      "Cell \u001b[0;32mIn[4], line 16\u001b[0m\n\u001b[1;32m     14\u001b[0m \u001b[38;5;66;03m# fetch both\u001b[39;00m\n\u001b[1;32m     15\u001b[0m strain \u001b[38;5;241m=\u001b[39m TimeSeries\u001b[38;5;241m.\u001b[39mget(strain_channel, t0, t1, verbose\u001b[38;5;241m=\u001b[39m\u001b[38;5;28;01mTrue\u001b[39;00m)\n\u001b[0;32m---> 16\u001b[0m aux    \u001b[38;5;241m=\u001b[39m \u001b[43mTimeSeries\u001b[49m\u001b[38;5;241;43m.\u001b[39;49m\u001b[43mget\u001b[49m\u001b[43m(\u001b[49m\u001b[43maux_channel\u001b[49m\u001b[43m,\u001b[49m\u001b[43m \u001b[49m\u001b[43mt0\u001b[49m\u001b[43m,\u001b[49m\u001b[43m \u001b[49m\u001b[43mt1\u001b[49m\u001b[43m,\u001b[49m\u001b[43m \u001b[49m\u001b[43mverbose\u001b[49m\u001b[38;5;241;43m=\u001b[39;49m\u001b[38;5;28;43;01mTrue\u001b[39;49;00m\u001b[43m)\u001b[49m\n\u001b[1;32m     18\u001b[0m \u001b[38;5;66;03m# plot both on same figure with twin axes\u001b[39;00m\n\u001b[1;32m     19\u001b[0m fig, ax1 \u001b[38;5;241m=\u001b[39m plt\u001b[38;5;241m.\u001b[39msubplots(figsize\u001b[38;5;241m=\u001b[39m(\u001b[38;5;241m10\u001b[39m,\u001b[38;5;241m5\u001b[39m))\n",
      "File \u001b[0;32m/cvmfs/software.igwn.org/conda/envs/igwn/lib/python3.10/site-packages/gwpy/timeseries/core.py:594\u001b[0m, in \u001b[0;36mTimeSeriesBase.get\u001b[0;34m(cls, channel, start, end, pad, scaled, dtype, verbose, allow_tape, **kwargs)\u001b[0m\n\u001b[1;32m    537\u001b[0m \u001b[38;5;129m@classmethod\u001b[39m\n\u001b[1;32m    538\u001b[0m \u001b[38;5;28;01mdef\u001b[39;00m \u001b[38;5;21mget\u001b[39m(\u001b[38;5;28mcls\u001b[39m, channel, start, end, pad\u001b[38;5;241m=\u001b[39m\u001b[38;5;28;01mNone\u001b[39;00m, scaled\u001b[38;5;241m=\u001b[39m\u001b[38;5;28;01mNone\u001b[39;00m,\n\u001b[1;32m    539\u001b[0m         dtype\u001b[38;5;241m=\u001b[39m\u001b[38;5;28;01mNone\u001b[39;00m, verbose\u001b[38;5;241m=\u001b[39m\u001b[38;5;28;01mFalse\u001b[39;00m, allow_tape\u001b[38;5;241m=\u001b[39m\u001b[38;5;28;01mNone\u001b[39;00m, \u001b[38;5;241m*\u001b[39m\u001b[38;5;241m*\u001b[39mkwargs):\n\u001b[1;32m    540\u001b[0m     \u001b[38;5;124;03m\"\"\"Get data for this channel from frames or NDS\u001b[39;00m\n\u001b[1;32m    541\u001b[0m \n\u001b[1;32m    542\u001b[0m \u001b[38;5;124;03m    This method dynamically accesses either frames on disk, or a\u001b[39;00m\n\u001b[0;32m   (...)\u001b[0m\n\u001b[1;32m    592\u001b[0m \u001b[38;5;124;03m        for discovering and reading data from local GWF files\u001b[39;00m\n\u001b[1;32m    593\u001b[0m \u001b[38;5;124;03m    \"\"\"\u001b[39;00m\n\u001b[0;32m--> 594\u001b[0m     \u001b[38;5;28;01mreturn\u001b[39;00m \u001b[38;5;28;43mcls\u001b[39;49m\u001b[38;5;241;43m.\u001b[39;49m\u001b[43mDictClass\u001b[49m\u001b[38;5;241;43m.\u001b[39;49m\u001b[43mget\u001b[49m\u001b[43m(\u001b[49m\n\u001b[1;32m    595\u001b[0m \u001b[43m        \u001b[49m\u001b[43m[\u001b[49m\u001b[43mchannel\u001b[49m\u001b[43m]\u001b[49m\u001b[43m,\u001b[49m\u001b[43m \u001b[49m\u001b[43mstart\u001b[49m\u001b[43m,\u001b[49m\u001b[43m \u001b[49m\u001b[43mend\u001b[49m\u001b[43m,\u001b[49m\u001b[43m \u001b[49m\u001b[43mpad\u001b[49m\u001b[38;5;241;43m=\u001b[39;49m\u001b[43mpad\u001b[49m\u001b[43m,\u001b[49m\u001b[43m \u001b[49m\u001b[43mscaled\u001b[49m\u001b[38;5;241;43m=\u001b[39;49m\u001b[43mscaled\u001b[49m\u001b[43m,\u001b[49m\u001b[43m \u001b[49m\u001b[43mdtype\u001b[49m\u001b[38;5;241;43m=\u001b[39;49m\u001b[43mdtype\u001b[49m\u001b[43m,\u001b[49m\n\u001b[1;32m    596\u001b[0m \u001b[43m        \u001b[49m\u001b[43mverbose\u001b[49m\u001b[38;5;241;43m=\u001b[39;49m\u001b[43mverbose\u001b[49m\u001b[43m,\u001b[49m\u001b[43m \u001b[49m\u001b[43mallow_tape\u001b[49m\u001b[38;5;241;43m=\u001b[39;49m\u001b[43mallow_tape\u001b[49m\u001b[43m,\u001b[49m\u001b[43m \u001b[49m\u001b[38;5;241;43m*\u001b[39;49m\u001b[38;5;241;43m*\u001b[39;49m\u001b[43mkwargs\u001b[49m\u001b[43m)\u001b[49m[\u001b[38;5;28mstr\u001b[39m(channel)]\n",
      "File \u001b[0;32m/cvmfs/software.igwn.org/conda/envs/igwn/lib/python3.10/site-packages/gwpy/timeseries/core.py:1414\u001b[0m, in \u001b[0;36mTimeSeriesBaseDict.get\u001b[0;34m(cls, channels, start, end, pad, scaled, dtype, verbose, allow_tape, **kwargs)\u001b[0m\n\u001b[1;32m   1412\u001b[0m \u001b[38;5;66;03m# otherwise fetch from NDS\u001b[39;00m\n\u001b[1;32m   1413\u001b[0m \u001b[38;5;28;01mtry\u001b[39;00m:\n\u001b[0;32m-> 1414\u001b[0m     \u001b[38;5;28;01mreturn\u001b[39;00m \u001b[38;5;28;43mcls\u001b[39;49m\u001b[38;5;241;43m.\u001b[39;49m\u001b[43mfetch\u001b[49m\u001b[43m(\u001b[49m\u001b[43mchannels\u001b[49m\u001b[43m,\u001b[49m\u001b[43m \u001b[49m\u001b[43mstart\u001b[49m\u001b[43m,\u001b[49m\u001b[43m \u001b[49m\u001b[43mend\u001b[49m\u001b[43m,\u001b[49m\u001b[43m \u001b[49m\u001b[43mpad\u001b[49m\u001b[38;5;241;43m=\u001b[39;49m\u001b[43mpad\u001b[49m\u001b[43m,\u001b[49m\u001b[43m \u001b[49m\u001b[43mscaled\u001b[49m\u001b[38;5;241;43m=\u001b[39;49m\u001b[43mscaled\u001b[49m\u001b[43m,\u001b[49m\n\u001b[1;32m   1415\u001b[0m \u001b[43m                     \u001b[49m\u001b[43mdtype\u001b[49m\u001b[38;5;241;43m=\u001b[39;49m\u001b[43mdtype\u001b[49m\u001b[43m,\u001b[49m\u001b[43m \u001b[49m\u001b[43mallow_tape\u001b[49m\u001b[38;5;241;43m=\u001b[39;49m\u001b[43mallow_tape\u001b[49m\u001b[43m,\u001b[49m\n\u001b[1;32m   1416\u001b[0m \u001b[43m                     \u001b[49m\u001b[43mverbose\u001b[49m\u001b[38;5;241;43m=\u001b[39;49m\u001b[43mverbose\u001b[49m\u001b[43m,\u001b[49m\u001b[43m \u001b[49m\u001b[38;5;241;43m*\u001b[39;49m\u001b[38;5;241;43m*\u001b[39;49m\u001b[43mkwargs\u001b[49m\u001b[43m)\u001b[49m\n\u001b[1;32m   1417\u001b[0m \u001b[38;5;28;01mexcept\u001b[39;00m \u001b[38;5;167;01mRuntimeError\u001b[39;00m \u001b[38;5;28;01mas\u001b[39;00m exc:\n\u001b[1;32m   1418\u001b[0m     \u001b[38;5;66;03m# if all else fails, try and get each channel individually\u001b[39;00m\n\u001b[1;32m   1419\u001b[0m     \u001b[38;5;28;01mif\u001b[39;00m \u001b[38;5;28mlen\u001b[39m(channels) \u001b[38;5;241m==\u001b[39m \u001b[38;5;241m1\u001b[39m:\n",
      "File \u001b[0;32m/cvmfs/software.igwn.org/conda/envs/igwn/lib/python3.10/site-packages/gwpy/timeseries/core.py:1166\u001b[0m, in \u001b[0;36mTimeSeriesBaseDict.fetch\u001b[0;34m(cls, channels, start, end, host, port, verify, verbose, connection, pad, scaled, allow_tape, type, dtype)\u001b[0m\n\u001b[1;32m   1163\u001b[0m     \u001b[38;5;28;01mif\u001b[39;00m \u001b[38;5;129;01mnot\u001b[39;00m verbose:\n\u001b[1;32m   1164\u001b[0m         err \u001b[38;5;241m+\u001b[39m\u001b[38;5;241m=\u001b[39m (\u001b[38;5;124m\"\u001b[39m\u001b[38;5;124m Try again using the verbose=True keyword argument \u001b[39m\u001b[38;5;124m\"\u001b[39m\n\u001b[1;32m   1165\u001b[0m                 \u001b[38;5;124m\"\u001b[39m\u001b[38;5;124m to see detailed failures.\u001b[39m\u001b[38;5;124m\"\u001b[39m)\n\u001b[0;32m-> 1166\u001b[0m     \u001b[38;5;28;01mraise\u001b[39;00m \u001b[38;5;167;01mRuntimeError\u001b[39;00m(err)\n\u001b[1;32m   1168\u001b[0m \u001b[38;5;66;03m# -- at this point we have an open connection, so perform fetch\u001b[39;00m\n\u001b[1;32m   1170\u001b[0m start \u001b[38;5;241m=\u001b[39m to_gps(start)\n",
      "\u001b[0;31mRuntimeError\u001b[0m: Cannot find all relevant data on any known server."
     ]
    }
   ],
   "source": [
    "from gwpy.timeseries import TimeSeries\n",
    "import matplotlib.pyplot as plt\n",
    "\n",
    "# glitch GPS times\n",
    "g0, g1 = 1245062053.5, 1245062054.25\n",
    "pad = 2     # add some padding around glitch\n",
    "t0, t1 = g0 - pad, g1 + pad\n",
    "\n",
    "# strain channel (check with ndsls H1 if needed)\n",
    "strain_channel = \"H1:DCS-CALIB_STRAIN_CLEAN_C01\"  \n",
    "# aux channel\n",
    "\n",
    "# fetch both\n",
    "strain = TimeSeries.get(\"H1:DCS-CALIB_STRAIN_CLEAN_C01\", t0, t1)\n",
    "\n",
    "# plot both on same figure with twin axes\n",
    "fig, ax1 = plt.subplots(figsize=(10,5))\n",
    "\n",
    "ax1.plot(strain.times.value, strain.value, label=\"H1 Strain\", color=\"k\")\n",
    "ax1.set_ylabel(\"Strain\")\n",
    "ax1.set_xlabel(\"Time [s, GPS]\")\n",
    "\n",
    "\n",
    "\n",
    "# mark glitch window\n",
    "ax1.axvspan(g0, g1, color=\"orange\", alpha=0.3)\n",
    "\n",
    "plt.title(f\"H1 glitch around GPS {g0:.2f}–{g1:.2f}\")\n",
    "plt.show()\n"
   ]
  },
  {
   "cell_type": "code",
   "execution_count": null,
   "id": "46e19119-20d8-4209-aa57-9e286c17711c",
   "metadata": {},
   "outputs": [],
   "source": []
  }
 ],
 "metadata": {
  "kernelspec": {
   "display_name": " igwn-py",
   "language": "python",
   "name": "igwn-py"
  },
  "language_info": {
   "codemirror_mode": {
    "name": "ipython",
    "version": 3
   },
   "file_extension": ".py",
   "mimetype": "text/x-python",
   "name": "python",
   "nbconvert_exporter": "python",
   "pygments_lexer": "ipython3",
   "version": "3.10.18"
  }
 },
 "nbformat": 4,
 "nbformat_minor": 5
}
